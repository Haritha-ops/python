{
  "cells": [
    {
      "cell_type": "code",
      "execution_count": null,
      "metadata": {
        "id": "GArP7JLoGsNH"
      },
      "outputs": [],
      "source": [
        "temperature=25\n",
        "print(f\"Temperature is: {temperature}\")"
      ]
    },
    {
      "cell_type": "code",
      "execution_count": null,
      "metadata": {
        "id": "Qc59wdSEqXwd"
      },
      "outputs": [],
      "source": [
        "import pandas as pd\n",
        "import numpy as np\n",
        "from sklearn.model_selection import train_test_split\n",
        "from sklearn.linear_model import LogisticRegression\n",
        "from sklearn.metrics import accuracy_score, confusion_matrix, classification_report\n",
        "import seaborn as sns\n",
        "import matplotlib.pyplot as plt"
      ]
    },
    {
      "cell_type": "code",
      "execution_count": null,
      "metadata": {
        "id": "hQAOA7692j9y"
      },
      "outputs": [],
      "source": [
        "# Step 1: Upload the file\n",
        "from google.colab import files\n",
        "uploaded = files.upload()\n",
        "\n",
        "# Step 2: Read the CSV file (replace with your actual filename if different)\n",
        "import pandas as pd\n",
        "import io\n",
        "\n",
        "df = pd.read_csv(io.BytesIO(uploaded['']))  # replace 'your_file.csv' with the actual filen]()_\n"
      ]
    },
    {
      "cell_type": "code",
      "execution_count": null,
      "metadata": {
        "id": "RWlfoA6x3LxJ"
      },
      "outputs": [],
      "source": [
        "import pandas as pd\n",
        "from sklearn.model_selection import train_test_split\n",
        "from sklearn.linear_model import LogisticRegression\n",
        "from sklearn.metrics import accuracy_score, confusion_matrix, classification_report\n",
        "import seaborn as sns\n",
        "import matplotlib.pyplot as plt\n",
        "\n",
        "# Load the dataset\n",
        "df = pd.read_csv('/mnt/data/d56968db-c239-47b4-b8e5-4c54288b3e3f.csv')\n",
        "\n",
        "\n",
        "# Define features and target\n",
        "X = df.drop('sustainability', axis=1)\n",
        "y = df['sustainability']\n",
        "\n",
        "# Split the dataset\n",
        "X_train, X_test, y_train, y_test = train_test_split(X, y, test_size=0.2, random_state=42)\n",
        "\n",
        "# Train logistic regression model\n",
        "model = LogisticRegression(max_iter=10000)\n",
        "model.fit(X_train, y_train)\n",
        "\n",
        "# Make predictions\n",
        "y_pred = model.predict(X_test)\n",
        "\n",
        "# Evaluate the model\n",
        "print(\"Accuracy:\", accuracy_score(y_test, y_pred))\n",
        "print(\"\\nConfusion Matrix:\\n\", confusion_matrix(y_test, y_pred))\n",
        "print(\"\\nClassification Report:\\n\", classification_report(y_test, y_pred))\n",
        "\n",
        "# Visualize confusion matrix\n",
        "sns.heatmap(confusion_matrix(y_test, y_pred), annot=True, fmt='d', cmap='Blues')\n",
        "plt.xlabel('Predicted')\n",
        "plt.ylabel('Actual')\n",
        "plt.title('Confusion Matrix Heatmap')\n",
        "plt.show()\n",
        "\n"
      ]
    },
    {
      "cell_type": "code",
      "execution_count": null,
      "metadata": {
        "id": "rXpZmIQw4D65"
      },
      "outputs": [],
      "source": [
        "import pandas as pd\n",
        "import numpy as np\n",
        "from sklearn.model_selection import train_test_split\n",
        "from sklearn.linear_model import LogisticRegression\n",
        "from sklearn.metrics import accuracy_score, confusion_matrix, classification_report\n",
        "import seaborn as sns\n",
        "import matplotlib.pyplot as plt\n",
        "\n",
        "# Step 1: Load the dataset using the correct full file path\n",
        "df = pd.read_csv('/mnt/data/d56968db-c239-47b4-b8e5-4c54288b3e3f.csv')\n",
        "\n",
        "# Step 2: Preview the data (optional)\n",
        "print(\"First 5 rows of the dataset:\")\n",
        "print(df.head())\n",
        "\n",
        "# Step 3: Define features (X) and target (y)\n",
        "X = df.drop('sustainability', axis=1)  # independent variables\n",
        "y = df['sustainability']               # target variable\n",
        "\n",
        "# Step 4: Split the data into training and testing sets (80% train, 20% test)\n",
        "X_train, X_test, y_train, y_test = train_test_split(X, y, test_size=0.2, random_state=42)\n",
        "\n",
        "# Step 5: Create and train the Logistic Regression model\n",
        "model = LogisticRegression(max_iter=10000)\n",
        "model.fit(X_train, y_train)\n",
        "\n",
        "# Step 6: Predict on test data\n",
        "y_pred = model.predict(X_test)\n",
        "\n",
        "# Step 7: Evaluate the model\n",
        "print(\"\\nModel Accuracy:\", accuracy_score(y_test, y_pred))\n",
        "print(\"\\nConfusion Matrix:\\n\", confusion_matrix(y_test, y_pred))\n",
        "print(\"\\nClassification Report:\\n\", classification_report(y_test, y_pred))\n",
        "\n",
        "# Step 8: Visualize the confusion matrix\n",
        "sns.heatmap(confusion_matrix(y_test, y_pred), annot=True, fmt='d', cmap='Blues')\n",
        "plt.xlabel('Predicted')\n",
        "plt.ylabel('Actual')\n",
        "plt.title('Confusion Matrix Heatmap')\n",
        "plt.show()\n"
      ]
    },
    {
      "cell_type": "code",
      "execution_count": null,
      "metadata": {
        "id": "VPVNGcjL4R6f"
      },
      "outputs": [],
      "source": [
        "from google.colab import files\n",
        "uploaded = files.upload()\n"
      ]
    },
    {
      "cell_type": "code",
      "execution_count": null,
      "metadata": {
        "id": "3j7uuCUv4aLH"
      },
      "outputs": [],
      "source": [
        "import pandas as pd\n",
        "import io\n",
        "\n",
        "# Replace the file name with the one shown after upload\n",
        "df = pd.read_csv(io.BytesIO(uploaded['green_tech_data.csv']))\n"
      ]
    },
    {
      "cell_type": "code",
      "execution_count": null,
      "metadata": {
        "id": "e7eXc_Q14rPx"
      },
      "outputs": [],
      "source": [
        "X=data[['carbon_emissions','energy_output','renewability_index','cost_efficiency']]\n",
        "y=data['sustainability']"
      ]
    },
    {
      "cell_type": "code",
      "execution_count": null,
      "metadata": {
        "colab": {
          "base_uri": "https://localhost:8080/",
          "height": 166
        },
        "id": "K4-9EatJbsN2",
        "outputId": "28b24fc8-ba24-43da-fa67-1384527950f8"
      },
      "outputs": [
        {
          "output_type": "error",
          "ename": "NameError",
          "evalue": "name 'data' is not defined",
          "traceback": [
            "\u001b[0;31m---------------------------------------------------------------------------\u001b[0m",
            "\u001b[0;31mNameError\u001b[0m                                 Traceback (most recent call last)",
            "\u001b[0;32m/tmp/ipython-input-3-3052814273.py\u001b[0m in \u001b[0;36m<cell line: 0>\u001b[0;34m()\u001b[0m\n\u001b[0;32m----> 1\u001b[0;31m \u001b[0mX\u001b[0m \u001b[0;34m=\u001b[0m \u001b[0mdata\u001b[0m\u001b[0;34m[\u001b[0m\u001b[0;34m[\u001b[0m\u001b[0;34m'temperature'\u001b[0m\u001b[0;34m,\u001b[0m\u001b[0;34m'humidity'\u001b[0m\u001b[0;34m,\u001b[0m\u001b[0;34m'wind_speed'\u001b[0m\u001b[0;34m,\u001b[0m\u001b[0;34m'solar_irradiance'\u001b[0m\u001b[0;34m]\u001b[0m\u001b[0;34m]\u001b[0m\u001b[0;34m.\u001b[0m\u001b[0mvalues\u001b[0m\u001b[0;34m\u001b[0m\u001b[0;34m\u001b[0m\u001b[0m\n\u001b[0m\u001b[1;32m      2\u001b[0m \u001b[0mY\u001b[0m \u001b[0;34m=\u001b[0m \u001b[0mdata\u001b[0m\u001b[0;34m[\u001b[0m\u001b[0;34m'energy_consumption'\u001b[0m\u001b[0;34m]\u001b[0m\u001b[0;34m.\u001b[0m\u001b[0mvalues\u001b[0m\u001b[0;34m\u001b[0m\u001b[0;34m\u001b[0m\u001b[0m\n",
            "\u001b[0;31mNameError\u001b[0m: name 'data' is not defined"
          ]
        }
      ],
      "source": [
        "X = data[['temperature','humidity','wind_speed','solar_irradiance']].values\n",
        "Y = data['energy_consumption'].values"
      ]
    },
    {
      "cell_type": "code",
      "source": [
        "X_train,X_test,Y_train,Y_test=train_test_split(X,Y,test_size=0.2,random_state=42)"
      ],
      "metadata": {
        "id": "tl_jz_1DcvDW"
      },
      "execution_count": null,
      "outputs": []
    },
    {
      "cell_type": "code",
      "source": [
        "scaler=StandardScaler()\n",
        "X_train=scaler.fit_transform(X_train)\n",
        "X_test=scaler.transform(X_test)"
      ],
      "metadata": {
        "id": "FQSvOPyJdVIU"
      },
      "execution_count": null,
      "outputs": []
    },
    {
      "cell_type": "code",
      "source": [
        "model=Sequential([\n",
        "    Dense(64,activation='relu',input_shape=(X_train.shape[1],)),\n",
        "    Dense(32,activation='relu'),\n",
        "    Dense(1)\n",
        "])"
      ],
      "metadata": {
        "id": "ERR9EnaCds9F"
      },
      "execution_count": null,
      "outputs": []
    },
    {
      "cell_type": "code",
      "source": [
        "pip install tensorflow\n"
      ],
      "metadata": {
        "id": "vb4MeBuicTFd"
      },
      "execution_count": null,
      "outputs": []
    },
    {
      "cell_type": "code",
      "execution_count": null,
      "metadata": {
        "id": "1KRBJ33CWxJg"
      },
      "outputs": [],
      "source": [
        "import numpy as np\n",
        "import pandas as pd\n",
        "import matplotlib.pyplot as plt\n",
        "from sklearn.model_selection import train_test_split\n",
        "from sklearn.preprocessing import StandardScaler\n",
        "from tensorflow.keras.models import Sequential\n",
        "from tensorflow.keras.layers import Dense\n"
      ]
    },
    {
      "cell_type": "code",
      "execution_count": null,
      "metadata": {
        "colab": {
          "base_uri": "https://localhost:8080/",
          "height": 206
        },
        "id": "ASW5DG0cXyNG",
        "outputId": "4cfb7771-45b7-47a8-a6b5-a1b8f9f12217"
      },
      "outputs": [
        {
          "output_type": "execute_result",
          "data": {
            "text/plain": [
              "   temperature   humidity  wind_speed  solar_irradiance  energy_consumption\n",
              "0    24.363503  31.107976    5.234114        705.432695          307.398145\n",
              "1    38.767858  52.514057    4.939576        817.013257          412.444548\n",
              "2    33.299849  72.376750   18.125092        325.421109          392.072418\n",
              "3    29.966462  63.933493    4.990924        662.386690          119.254957\n",
              "4    18.900466  68.393669    5.438995        614.571385          117.162261"
            ],
            "text/html": [
              "\n",
              "  <div id=\"df-415190d2-3e64-4e53-917a-fb111c59b1d9\" class=\"colab-df-container\">\n",
              "    <div>\n",
              "<style scoped>\n",
              "    .dataframe tbody tr th:only-of-type {\n",
              "        vertical-align: middle;\n",
              "    }\n",
              "\n",
              "    .dataframe tbody tr th {\n",
              "        vertical-align: top;\n",
              "    }\n",
              "\n",
              "    .dataframe thead th {\n",
              "        text-align: right;\n",
              "    }\n",
              "</style>\n",
              "<table border=\"1\" class=\"dataframe\">\n",
              "  <thead>\n",
              "    <tr style=\"text-align: right;\">\n",
              "      <th></th>\n",
              "      <th>temperature</th>\n",
              "      <th>humidity</th>\n",
              "      <th>wind_speed</th>\n",
              "      <th>solar_irradiance</th>\n",
              "      <th>energy_consumption</th>\n",
              "    </tr>\n",
              "  </thead>\n",
              "  <tbody>\n",
              "    <tr>\n",
              "      <th>0</th>\n",
              "      <td>24.363503</td>\n",
              "      <td>31.107976</td>\n",
              "      <td>5.234114</td>\n",
              "      <td>705.432695</td>\n",
              "      <td>307.398145</td>\n",
              "    </tr>\n",
              "    <tr>\n",
              "      <th>1</th>\n",
              "      <td>38.767858</td>\n",
              "      <td>52.514057</td>\n",
              "      <td>4.939576</td>\n",
              "      <td>817.013257</td>\n",
              "      <td>412.444548</td>\n",
              "    </tr>\n",
              "    <tr>\n",
              "      <th>2</th>\n",
              "      <td>33.299849</td>\n",
              "      <td>72.376750</td>\n",
              "      <td>18.125092</td>\n",
              "      <td>325.421109</td>\n",
              "      <td>392.072418</td>\n",
              "    </tr>\n",
              "    <tr>\n",
              "      <th>3</th>\n",
              "      <td>29.966462</td>\n",
              "      <td>63.933493</td>\n",
              "      <td>4.990924</td>\n",
              "      <td>662.386690</td>\n",
              "      <td>119.254957</td>\n",
              "    </tr>\n",
              "    <tr>\n",
              "      <th>4</th>\n",
              "      <td>18.900466</td>\n",
              "      <td>68.393669</td>\n",
              "      <td>5.438995</td>\n",
              "      <td>614.571385</td>\n",
              "      <td>117.162261</td>\n",
              "    </tr>\n",
              "  </tbody>\n",
              "</table>\n",
              "</div>\n",
              "    <div class=\"colab-df-buttons\">\n",
              "\n",
              "  <div class=\"colab-df-container\">\n",
              "    <button class=\"colab-df-convert\" onclick=\"convertToInteractive('df-415190d2-3e64-4e53-917a-fb111c59b1d9')\"\n",
              "            title=\"Convert this dataframe to an interactive table.\"\n",
              "            style=\"display:none;\">\n",
              "\n",
              "  <svg xmlns=\"http://www.w3.org/2000/svg\" height=\"24px\" viewBox=\"0 -960 960 960\">\n",
              "    <path d=\"M120-120v-720h720v720H120Zm60-500h600v-160H180v160Zm220 220h160v-160H400v160Zm0 220h160v-160H400v160ZM180-400h160v-160H180v160Zm440 0h160v-160H620v160ZM180-180h160v-160H180v160Zm440 0h160v-160H620v160Z\"/>\n",
              "  </svg>\n",
              "    </button>\n",
              "\n",
              "  <style>\n",
              "    .colab-df-container {\n",
              "      display:flex;\n",
              "      gap: 12px;\n",
              "    }\n",
              "\n",
              "    .colab-df-convert {\n",
              "      background-color: #E8F0FE;\n",
              "      border: none;\n",
              "      border-radius: 50%;\n",
              "      cursor: pointer;\n",
              "      display: none;\n",
              "      fill: #1967D2;\n",
              "      height: 32px;\n",
              "      padding: 0 0 0 0;\n",
              "      width: 32px;\n",
              "    }\n",
              "\n",
              "    .colab-df-convert:hover {\n",
              "      background-color: #E2EBFA;\n",
              "      box-shadow: 0px 1px 2px rgba(60, 64, 67, 0.3), 0px 1px 3px 1px rgba(60, 64, 67, 0.15);\n",
              "      fill: #174EA6;\n",
              "    }\n",
              "\n",
              "    .colab-df-buttons div {\n",
              "      margin-bottom: 4px;\n",
              "    }\n",
              "\n",
              "    [theme=dark] .colab-df-convert {\n",
              "      background-color: #3B4455;\n",
              "      fill: #D2E3FC;\n",
              "    }\n",
              "\n",
              "    [theme=dark] .colab-df-convert:hover {\n",
              "      background-color: #434B5C;\n",
              "      box-shadow: 0px 1px 3px 1px rgba(0, 0, 0, 0.15);\n",
              "      filter: drop-shadow(0px 1px 2px rgba(0, 0, 0, 0.3));\n",
              "      fill: #FFFFFF;\n",
              "    }\n",
              "  </style>\n",
              "\n",
              "    <script>\n",
              "      const buttonEl =\n",
              "        document.querySelector('#df-415190d2-3e64-4e53-917a-fb111c59b1d9 button.colab-df-convert');\n",
              "      buttonEl.style.display =\n",
              "        google.colab.kernel.accessAllowed ? 'block' : 'none';\n",
              "\n",
              "      async function convertToInteractive(key) {\n",
              "        const element = document.querySelector('#df-415190d2-3e64-4e53-917a-fb111c59b1d9');\n",
              "        const dataTable =\n",
              "          await google.colab.kernel.invokeFunction('convertToInteractive',\n",
              "                                                    [key], {});\n",
              "        if (!dataTable) return;\n",
              "\n",
              "        const docLinkHtml = 'Like what you see? Visit the ' +\n",
              "          '<a target=\"_blank\" href=https://colab.research.google.com/notebooks/data_table.ipynb>data table notebook</a>'\n",
              "          + ' to learn more about interactive tables.';\n",
              "        element.innerHTML = '';\n",
              "        dataTable['output_type'] = 'display_data';\n",
              "        await google.colab.output.renderOutput(dataTable, element);\n",
              "        const docLink = document.createElement('div');\n",
              "        docLink.innerHTML = docLinkHtml;\n",
              "        element.appendChild(docLink);\n",
              "      }\n",
              "    </script>\n",
              "  </div>\n",
              "\n",
              "\n",
              "    <div id=\"df-a6bd373b-65c4-45e3-bac7-620ef89e1de5\">\n",
              "      <button class=\"colab-df-quickchart\" onclick=\"quickchart('df-a6bd373b-65c4-45e3-bac7-620ef89e1de5')\"\n",
              "                title=\"Suggest charts\"\n",
              "                style=\"display:none;\">\n",
              "\n",
              "<svg xmlns=\"http://www.w3.org/2000/svg\" height=\"24px\"viewBox=\"0 0 24 24\"\n",
              "     width=\"24px\">\n",
              "    <g>\n",
              "        <path d=\"M19 3H5c-1.1 0-2 .9-2 2v14c0 1.1.9 2 2 2h14c1.1 0 2-.9 2-2V5c0-1.1-.9-2-2-2zM9 17H7v-7h2v7zm4 0h-2V7h2v10zm4 0h-2v-4h2v4z\"/>\n",
              "    </g>\n",
              "</svg>\n",
              "      </button>\n",
              "\n",
              "<style>\n",
              "  .colab-df-quickchart {\n",
              "      --bg-color: #E8F0FE;\n",
              "      --fill-color: #1967D2;\n",
              "      --hover-bg-color: #E2EBFA;\n",
              "      --hover-fill-color: #174EA6;\n",
              "      --disabled-fill-color: #AAA;\n",
              "      --disabled-bg-color: #DDD;\n",
              "  }\n",
              "\n",
              "  [theme=dark] .colab-df-quickchart {\n",
              "      --bg-color: #3B4455;\n",
              "      --fill-color: #D2E3FC;\n",
              "      --hover-bg-color: #434B5C;\n",
              "      --hover-fill-color: #FFFFFF;\n",
              "      --disabled-bg-color: #3B4455;\n",
              "      --disabled-fill-color: #666;\n",
              "  }\n",
              "\n",
              "  .colab-df-quickchart {\n",
              "    background-color: var(--bg-color);\n",
              "    border: none;\n",
              "    border-radius: 50%;\n",
              "    cursor: pointer;\n",
              "    display: none;\n",
              "    fill: var(--fill-color);\n",
              "    height: 32px;\n",
              "    padding: 0;\n",
              "    width: 32px;\n",
              "  }\n",
              "\n",
              "  .colab-df-quickchart:hover {\n",
              "    background-color: var(--hover-bg-color);\n",
              "    box-shadow: 0 1px 2px rgba(60, 64, 67, 0.3), 0 1px 3px 1px rgba(60, 64, 67, 0.15);\n",
              "    fill: var(--button-hover-fill-color);\n",
              "  }\n",
              "\n",
              "  .colab-df-quickchart-complete:disabled,\n",
              "  .colab-df-quickchart-complete:disabled:hover {\n",
              "    background-color: var(--disabled-bg-color);\n",
              "    fill: var(--disabled-fill-color);\n",
              "    box-shadow: none;\n",
              "  }\n",
              "\n",
              "  .colab-df-spinner {\n",
              "    border: 2px solid var(--fill-color);\n",
              "    border-color: transparent;\n",
              "    border-bottom-color: var(--fill-color);\n",
              "    animation:\n",
              "      spin 1s steps(1) infinite;\n",
              "  }\n",
              "\n",
              "  @keyframes spin {\n",
              "    0% {\n",
              "      border-color: transparent;\n",
              "      border-bottom-color: var(--fill-color);\n",
              "      border-left-color: var(--fill-color);\n",
              "    }\n",
              "    20% {\n",
              "      border-color: transparent;\n",
              "      border-left-color: var(--fill-color);\n",
              "      border-top-color: var(--fill-color);\n",
              "    }\n",
              "    30% {\n",
              "      border-color: transparent;\n",
              "      border-left-color: var(--fill-color);\n",
              "      border-top-color: var(--fill-color);\n",
              "      border-right-color: var(--fill-color);\n",
              "    }\n",
              "    40% {\n",
              "      border-color: transparent;\n",
              "      border-right-color: var(--fill-color);\n",
              "      border-top-color: var(--fill-color);\n",
              "    }\n",
              "    60% {\n",
              "      border-color: transparent;\n",
              "      border-right-color: var(--fill-color);\n",
              "    }\n",
              "    80% {\n",
              "      border-color: transparent;\n",
              "      border-right-color: var(--fill-color);\n",
              "      border-bottom-color: var(--fill-color);\n",
              "    }\n",
              "    90% {\n",
              "      border-color: transparent;\n",
              "      border-bottom-color: var(--fill-color);\n",
              "    }\n",
              "  }\n",
              "</style>\n",
              "\n",
              "      <script>\n",
              "        async function quickchart(key) {\n",
              "          const quickchartButtonEl =\n",
              "            document.querySelector('#' + key + ' button');\n",
              "          quickchartButtonEl.disabled = true;  // To prevent multiple clicks.\n",
              "          quickchartButtonEl.classList.add('colab-df-spinner');\n",
              "          try {\n",
              "            const charts = await google.colab.kernel.invokeFunction(\n",
              "                'suggestCharts', [key], {});\n",
              "          } catch (error) {\n",
              "            console.error('Error during call to suggestCharts:', error);\n",
              "          }\n",
              "          quickchartButtonEl.classList.remove('colab-df-spinner');\n",
              "          quickchartButtonEl.classList.add('colab-df-quickchart-complete');\n",
              "        }\n",
              "        (() => {\n",
              "          let quickchartButtonEl =\n",
              "            document.querySelector('#df-a6bd373b-65c4-45e3-bac7-620ef89e1de5 button');\n",
              "          quickchartButtonEl.style.display =\n",
              "            google.colab.kernel.accessAllowed ? 'block' : 'none';\n",
              "        })();\n",
              "      </script>\n",
              "    </div>\n",
              "\n",
              "    </div>\n",
              "  </div>\n"
            ],
            "application/vnd.google.colaboratory.intrinsic+json": {
              "type": "dataframe",
              "variable_name": "data",
              "summary": "{\n  \"name\": \"data\",\n  \"rows\": 1000,\n  \"fields\": [\n    {\n      \"column\": \"temperature\",\n      \"properties\": {\n        \"dtype\": \"number\",\n        \"std\": 7.303434048687154,\n        \"min\": 15.115800575115072,\n        \"max\": 39.992941832153264,\n        \"num_unique_values\": 1000,\n        \"samples\": [\n          24.52227141577554,\n          35.41498598678943,\n          26.56699464174016\n        ],\n        \"semantic_type\": \"\",\n        \"description\": \"\"\n      }\n    },\n    {\n      \"column\": \"humidity\",\n      \"properties\": {\n        \"dtype\": \"number\",\n        \"std\": 17.531393604189343,\n        \"min\": 20.19309581625672,\n        \"max\": 79.96482354623998,\n        \"num_unique_values\": 1000,\n        \"samples\": [\n          76.06616160833086,\n          31.677350709245903,\n          69.65227373401245\n        ],\n        \"semantic_type\": \"\",\n        \"description\": \"\"\n      }\n    },\n    {\n      \"column\": \"wind_speed\",\n      \"properties\": {\n        \"dtype\": \"number\",\n        \"std\": 5.813483909940957,\n        \"min\": 0.0002326951073228,\n        \"max\": 19.956417113639564,\n        \"num_unique_values\": 1000,\n        \"samples\": [\n          2.688702588162437,\n          10.889646656005258,\n          7.313614965227426\n        ],\n        \"semantic_type\": \"\",\n        \"description\": \"\"\n      }\n    },\n    {\n      \"column\": \"solar_irradiance\",\n      \"properties\": {\n        \"dtype\": \"number\",\n        \"std\": 257.84040991679575,\n        \"min\": 100.5880516851696,\n        \"max\": 999.6019329253947,\n        \"num_unique_values\": 1000,\n        \"samples\": [\n          522.1964899428208,\n          776.0594232586385,\n          913.9237974944716\n        ],\n        \"semantic_type\": \"\",\n        \"description\": \"\"\n      }\n    },\n    {\n      \"column\": \"energy_consumption\",\n      \"properties\": {\n        \"dtype\": \"number\",\n        \"std\": 129.064474493042,\n        \"min\": 50.01382348042209,\n        \"max\": 498.9872250545903,\n        \"num_unique_values\": 1000,\n        \"samples\": [\n          309.7026870745579,\n          206.9743583563836,\n          373.4231509679911\n        ],\n        \"semantic_type\": \"\",\n        \"description\": \"\"\n      }\n    }\n  ]\n}"
            }
          },
          "metadata": {},
          "execution_count": 12
        }
      ],
      "source": [
        "data =pd.read_csv('predict_energy_consumption.csv')\n",
        "data.head()"
      ]
    },
    {
      "cell_type": "code",
      "source": [
        "model.compile(optimizer='adam',loss='mean_squared_error')"
      ],
      "metadata": {
        "colab": {
          "base_uri": "https://localhost:8080/",
          "height": 148
        },
        "id": "RyetcGime4gx",
        "outputId": "7bbeafb4-b086-4240-ef77-f9f417575f91"
      },
      "execution_count": null,
      "outputs": [
        {
          "output_type": "error",
          "ename": "NameError",
          "evalue": "name 'model' is not defined",
          "traceback": [
            "\u001b[0;31m---------------------------------------------------------------------------\u001b[0m",
            "\u001b[0;31mNameError\u001b[0m                                 Traceback (most recent call last)",
            "\u001b[0;32m/tmp/ipython-input-14-1587132053.py\u001b[0m in \u001b[0;36m<cell line: 0>\u001b[0;34m()\u001b[0m\n\u001b[0;32m----> 1\u001b[0;31m \u001b[0mmodel\u001b[0m\u001b[0;34m.\u001b[0m\u001b[0mcompile\u001b[0m\u001b[0;34m(\u001b[0m\u001b[0moptimizer\u001b[0m\u001b[0;34m=\u001b[0m\u001b[0;34m'adam'\u001b[0m\u001b[0;34m,\u001b[0m\u001b[0mloss\u001b[0m\u001b[0;34m=\u001b[0m\u001b[0;34m'mean_squared_error'\u001b[0m\u001b[0;34m)\u001b[0m\u001b[0;34m\u001b[0m\u001b[0;34m\u001b[0m\u001b[0m\n\u001b[0m",
            "\u001b[0;31mNameError\u001b[0m: name 'model' is not defined"
          ]
        }
      ]
    },
    {
      "cell_type": "code",
      "source": [
        "history=model.fit(X_train,Y_train,epochs=50,batch_size=32,validation_split=0.2,verbose=1)"
      ],
      "metadata": {
        "colab": {
          "base_uri": "https://localhost:8080/",
          "height": 148
        },
        "id": "wnEHJkHPfL9v",
        "outputId": "72a67909-9798-4fde-8a07-54accd8459c5"
      },
      "execution_count": null,
      "outputs": [
        {
          "output_type": "error",
          "ename": "NameError",
          "evalue": "name 'model' is not defined",
          "traceback": [
            "\u001b[0;31m---------------------------------------------------------------------------\u001b[0m",
            "\u001b[0;31mNameError\u001b[0m                                 Traceback (most recent call last)",
            "\u001b[0;32m/tmp/ipython-input-17-462641570.py\u001b[0m in \u001b[0;36m<cell line: 0>\u001b[0;34m()\u001b[0m\n\u001b[0;32m----> 1\u001b[0;31m \u001b[0mhistory\u001b[0m\u001b[0;34m=\u001b[0m\u001b[0mmodel\u001b[0m\u001b[0;34m.\u001b[0m\u001b[0mfit\u001b[0m\u001b[0;34m(\u001b[0m\u001b[0mX_train\u001b[0m\u001b[0;34m,\u001b[0m\u001b[0mY_train\u001b[0m\u001b[0;34m,\u001b[0m\u001b[0mepochs\u001b[0m\u001b[0;34m=\u001b[0m\u001b[0;36m50\u001b[0m\u001b[0;34m,\u001b[0m\u001b[0mbatch_size\u001b[0m\u001b[0;34m=\u001b[0m\u001b[0;36m32\u001b[0m\u001b[0;34m,\u001b[0m\u001b[0mvalidation_split\u001b[0m\u001b[0;34m=\u001b[0m\u001b[0;36m0.2\u001b[0m\u001b[0;34m,\u001b[0m\u001b[0mverbose\u001b[0m\u001b[0;34m=\u001b[0m\u001b[0;36m1\u001b[0m\u001b[0;34m)\u001b[0m\u001b[0;34m\u001b[0m\u001b[0;34m\u001b[0m\u001b[0m\n\u001b[0m",
            "\u001b[0;31mNameError\u001b[0m: name 'model' is not defined"
          ]
        }
      ]
    },
    {
      "cell_type": "code",
      "source": [
        "test_loss,test_mae = model.evaluate(X_test,Y_test,verbose=1)\n",
        "print(f\"Test Mean Absolute Error:{test_mae:.2f}\")"
      ],
      "metadata": {
        "colab": {
          "base_uri": "https://localhost:8080/",
          "height": 166
        },
        "id": "p20k0eYVfqXC",
        "outputId": "aef614b8-a6a0-446c-bfff-64c740c3c368"
      },
      "execution_count": null,
      "outputs": [
        {
          "output_type": "error",
          "ename": "NameError",
          "evalue": "name 'model' is not defined",
          "traceback": [
            "\u001b[0;31m---------------------------------------------------------------------------\u001b[0m",
            "\u001b[0;31mNameError\u001b[0m                                 Traceback (most recent call last)",
            "\u001b[0;32m/tmp/ipython-input-18-1836385524.py\u001b[0m in \u001b[0;36m<cell line: 0>\u001b[0;34m()\u001b[0m\n\u001b[0;32m----> 1\u001b[0;31m \u001b[0mtest_loss\u001b[0m\u001b[0;34m,\u001b[0m\u001b[0mtest_mae\u001b[0m \u001b[0;34m=\u001b[0m \u001b[0mmodel\u001b[0m\u001b[0;34m.\u001b[0m\u001b[0mevaluate\u001b[0m\u001b[0;34m(\u001b[0m\u001b[0mX_test\u001b[0m\u001b[0;34m,\u001b[0m\u001b[0mY_test\u001b[0m\u001b[0;34m,\u001b[0m\u001b[0mverbose\u001b[0m\u001b[0;34m=\u001b[0m\u001b[0;36m1\u001b[0m\u001b[0;34m)\u001b[0m\u001b[0;34m\u001b[0m\u001b[0;34m\u001b[0m\u001b[0m\n\u001b[0m\u001b[1;32m      2\u001b[0m \u001b[0mprint\u001b[0m\u001b[0;34m(\u001b[0m\u001b[0;34mf\"Test Mean Absolute Error:{test_mae:.2f}\"\u001b[0m\u001b[0;34m)\u001b[0m\u001b[0;34m\u001b[0m\u001b[0;34m\u001b[0m\u001b[0m\n",
            "\u001b[0;31mNameError\u001b[0m: name 'model' is not defined"
          ]
        }
      ]
    },
    {
      "cell_type": "code",
      "source": [
        "plt.plot(history.history['loss'],label='Training Loss')\n",
        "plt.plot(history.history['val_loss'],label='Validation Loss')\n",
        "plt.xlabel('Epochs')\n",
        "plt.ylabel('Loss')\n",
        "plt.title('Model Training Performance')\n",
        "plt.legend()\n",
        "plt.show()"
      ],
      "metadata": {
        "colab": {
          "base_uri": "https://localhost:8080/",
          "height": 222
        },
        "id": "G3qKoO41iaQG",
        "outputId": "b4cd1d28-7cdf-4144-98de-c98c7f688a18"
      },
      "execution_count": null,
      "outputs": [
        {
          "output_type": "error",
          "ename": "NameError",
          "evalue": "name 'history' is not defined",
          "traceback": [
            "\u001b[0;31m---------------------------------------------------------------------------\u001b[0m",
            "\u001b[0;31mNameError\u001b[0m                                 Traceback (most recent call last)",
            "\u001b[0;32m/tmp/ipython-input-19-3790101491.py\u001b[0m in \u001b[0;36m<cell line: 0>\u001b[0;34m()\u001b[0m\n\u001b[0;32m----> 1\u001b[0;31m \u001b[0mplt\u001b[0m\u001b[0;34m.\u001b[0m\u001b[0mplot\u001b[0m\u001b[0;34m(\u001b[0m\u001b[0mhistory\u001b[0m\u001b[0;34m.\u001b[0m\u001b[0mhistory\u001b[0m\u001b[0;34m[\u001b[0m\u001b[0;34m'loss'\u001b[0m\u001b[0;34m]\u001b[0m\u001b[0;34m,\u001b[0m\u001b[0mlabel\u001b[0m\u001b[0;34m=\u001b[0m\u001b[0;34m'Training Loss'\u001b[0m\u001b[0;34m)\u001b[0m\u001b[0;34m\u001b[0m\u001b[0;34m\u001b[0m\u001b[0m\n\u001b[0m\u001b[1;32m      2\u001b[0m \u001b[0mplt\u001b[0m\u001b[0;34m.\u001b[0m\u001b[0mplot\u001b[0m\u001b[0;34m(\u001b[0m\u001b[0mhistory\u001b[0m\u001b[0;34m.\u001b[0m\u001b[0mhistory\u001b[0m\u001b[0;34m[\u001b[0m\u001b[0;34m'val_loss'\u001b[0m\u001b[0;34m]\u001b[0m\u001b[0;34m,\u001b[0m\u001b[0mlabel\u001b[0m\u001b[0;34m=\u001b[0m\u001b[0;34m'Validation Loss'\u001b[0m\u001b[0;34m)\u001b[0m\u001b[0;34m\u001b[0m\u001b[0;34m\u001b[0m\u001b[0m\n\u001b[1;32m      3\u001b[0m \u001b[0mplt\u001b[0m\u001b[0;34m.\u001b[0m\u001b[0mxlabel\u001b[0m\u001b[0;34m(\u001b[0m\u001b[0;34m'Epochs'\u001b[0m\u001b[0;34m)\u001b[0m\u001b[0;34m\u001b[0m\u001b[0;34m\u001b[0m\u001b[0m\n\u001b[1;32m      4\u001b[0m \u001b[0mplt\u001b[0m\u001b[0;34m.\u001b[0m\u001b[0mylabel\u001b[0m\u001b[0;34m(\u001b[0m\u001b[0;34m'Loss'\u001b[0m\u001b[0;34m)\u001b[0m\u001b[0;34m\u001b[0m\u001b[0;34m\u001b[0m\u001b[0m\n\u001b[1;32m      5\u001b[0m \u001b[0mplt\u001b[0m\u001b[0;34m.\u001b[0m\u001b[0mtitle\u001b[0m\u001b[0;34m(\u001b[0m\u001b[0;34m'Model Training Performance'\u001b[0m\u001b[0;34m)\u001b[0m\u001b[0;34m\u001b[0m\u001b[0;34m\u001b[0m\u001b[0m\n",
            "\u001b[0;31mNameError\u001b[0m: name 'history' is not defined"
          ]
        }
      ]
    },
    {
      "cell_type": "code",
      "execution_count": null,
      "metadata": {
        "colab": {
          "base_uri": "https://localhost:8080/",
          "height": 73
        },
        "id": "jr0drTcNZBcv",
        "outputId": "a87fa357-1c56-45e9-d40b-70f87e578c2e"
      },
      "outputs": [
        {
          "output_type": "display_data",
          "data": {
            "text/plain": [
              "<IPython.core.display.HTML object>"
            ],
            "text/html": [
              "\n",
              "     <input type=\"file\" id=\"files-15b53ec8-407c-4520-80a5-937df963cfe4\" name=\"files[]\" multiple disabled\n",
              "        style=\"border:none\" />\n",
              "     <output id=\"result-15b53ec8-407c-4520-80a5-937df963cfe4\">\n",
              "      Upload widget is only available when the cell has been executed in the\n",
              "      current browser session. Please rerun this cell to enable.\n",
              "      </output>\n",
              "      <script>// Copyright 2017 Google LLC\n",
              "//\n",
              "// Licensed under the Apache License, Version 2.0 (the \"License\");\n",
              "// you may not use this file except in compliance with the License.\n",
              "// You may obtain a copy of the License at\n",
              "//\n",
              "//      http://www.apache.org/licenses/LICENSE-2.0\n",
              "//\n",
              "// Unless required by applicable law or agreed to in writing, software\n",
              "// distributed under the License is distributed on an \"AS IS\" BASIS,\n",
              "// WITHOUT WARRANTIES OR CONDITIONS OF ANY KIND, either express or implied.\n",
              "// See the License for the specific language governing permissions and\n",
              "// limitations under the License.\n",
              "\n",
              "/**\n",
              " * @fileoverview Helpers for google.colab Python module.\n",
              " */\n",
              "(function(scope) {\n",
              "function span(text, styleAttributes = {}) {\n",
              "  const element = document.createElement('span');\n",
              "  element.textContent = text;\n",
              "  for (const key of Object.keys(styleAttributes)) {\n",
              "    element.style[key] = styleAttributes[key];\n",
              "  }\n",
              "  return element;\n",
              "}\n",
              "\n",
              "// Max number of bytes which will be uploaded at a time.\n",
              "const MAX_PAYLOAD_SIZE = 100 * 1024;\n",
              "\n",
              "function _uploadFiles(inputId, outputId) {\n",
              "  const steps = uploadFilesStep(inputId, outputId);\n",
              "  const outputElement = document.getElementById(outputId);\n",
              "  // Cache steps on the outputElement to make it available for the next call\n",
              "  // to uploadFilesContinue from Python.\n",
              "  outputElement.steps = steps;\n",
              "\n",
              "  return _uploadFilesContinue(outputId);\n",
              "}\n",
              "\n",
              "// This is roughly an async generator (not supported in the browser yet),\n",
              "// where there are multiple asynchronous steps and the Python side is going\n",
              "// to poll for completion of each step.\n",
              "// This uses a Promise to block the python side on completion of each step,\n",
              "// then passes the result of the previous step as the input to the next step.\n",
              "function _uploadFilesContinue(outputId) {\n",
              "  const outputElement = document.getElementById(outputId);\n",
              "  const steps = outputElement.steps;\n",
              "\n",
              "  const next = steps.next(outputElement.lastPromiseValue);\n",
              "  return Promise.resolve(next.value.promise).then((value) => {\n",
              "    // Cache the last promise value to make it available to the next\n",
              "    // step of the generator.\n",
              "    outputElement.lastPromiseValue = value;\n",
              "    return next.value.response;\n",
              "  });\n",
              "}\n",
              "\n",
              "/**\n",
              " * Generator function which is called between each async step of the upload\n",
              " * process.\n",
              " * @param {string} inputId Element ID of the input file picker element.\n",
              " * @param {string} outputId Element ID of the output display.\n",
              " * @return {!Iterable<!Object>} Iterable of next steps.\n",
              " */\n",
              "function* uploadFilesStep(inputId, outputId) {\n",
              "  const inputElement = document.getElementById(inputId);\n",
              "  inputElement.disabled = false;\n",
              "\n",
              "  const outputElement = document.getElementById(outputId);\n",
              "  outputElement.innerHTML = '';\n",
              "\n",
              "  const pickedPromise = new Promise((resolve) => {\n",
              "    inputElement.addEventListener('change', (e) => {\n",
              "      resolve(e.target.files);\n",
              "    });\n",
              "  });\n",
              "\n",
              "  const cancel = document.createElement('button');\n",
              "  inputElement.parentElement.appendChild(cancel);\n",
              "  cancel.textContent = 'Cancel upload';\n",
              "  const cancelPromise = new Promise((resolve) => {\n",
              "    cancel.onclick = () => {\n",
              "      resolve(null);\n",
              "    };\n",
              "  });\n",
              "\n",
              "  // Wait for the user to pick the files.\n",
              "  const files = yield {\n",
              "    promise: Promise.race([pickedPromise, cancelPromise]),\n",
              "    response: {\n",
              "      action: 'starting',\n",
              "    }\n",
              "  };\n",
              "\n",
              "  cancel.remove();\n",
              "\n",
              "  // Disable the input element since further picks are not allowed.\n",
              "  inputElement.disabled = true;\n",
              "\n",
              "  if (!files) {\n",
              "    return {\n",
              "      response: {\n",
              "        action: 'complete',\n",
              "      }\n",
              "    };\n",
              "  }\n",
              "\n",
              "  for (const file of files) {\n",
              "    const li = document.createElement('li');\n",
              "    li.append(span(file.name, {fontWeight: 'bold'}));\n",
              "    li.append(span(\n",
              "        `(${file.type || 'n/a'}) - ${file.size} bytes, ` +\n",
              "        `last modified: ${\n",
              "            file.lastModifiedDate ? file.lastModifiedDate.toLocaleDateString() :\n",
              "                                    'n/a'} - `));\n",
              "    const percent = span('0% done');\n",
              "    li.appendChild(percent);\n",
              "\n",
              "    outputElement.appendChild(li);\n",
              "\n",
              "    const fileDataPromise = new Promise((resolve) => {\n",
              "      const reader = new FileReader();\n",
              "      reader.onload = (e) => {\n",
              "        resolve(e.target.result);\n",
              "      };\n",
              "      reader.readAsArrayBuffer(file);\n",
              "    });\n",
              "    // Wait for the data to be ready.\n",
              "    let fileData = yield {\n",
              "      promise: fileDataPromise,\n",
              "      response: {\n",
              "        action: 'continue',\n",
              "      }\n",
              "    };\n",
              "\n",
              "    // Use a chunked sending to avoid message size limits. See b/62115660.\n",
              "    let position = 0;\n",
              "    do {\n",
              "      const length = Math.min(fileData.byteLength - position, MAX_PAYLOAD_SIZE);\n",
              "      const chunk = new Uint8Array(fileData, position, length);\n",
              "      position += length;\n",
              "\n",
              "      const base64 = btoa(String.fromCharCode.apply(null, chunk));\n",
              "      yield {\n",
              "        response: {\n",
              "          action: 'append',\n",
              "          file: file.name,\n",
              "          data: base64,\n",
              "        },\n",
              "      };\n",
              "\n",
              "      let percentDone = fileData.byteLength === 0 ?\n",
              "          100 :\n",
              "          Math.round((position / fileData.byteLength) * 100);\n",
              "      percent.textContent = `${percentDone}% done`;\n",
              "\n",
              "    } while (position < fileData.byteLength);\n",
              "  }\n",
              "\n",
              "  // All done.\n",
              "  yield {\n",
              "    response: {\n",
              "      action: 'complete',\n",
              "    }\n",
              "  };\n",
              "}\n",
              "\n",
              "scope.google = scope.google || {};\n",
              "scope.google.colab = scope.google.colab || {};\n",
              "scope.google.colab._files = {\n",
              "  _uploadFiles,\n",
              "  _uploadFilesContinue,\n",
              "};\n",
              "})(self);\n",
              "</script> "
            ]
          },
          "metadata": {}
        },
        {
          "output_type": "stream",
          "name": "stdout",
          "text": [
            "Saving predict_energy_consumption.csv to predict_energy_consumption.csv\n"
          ]
        }
      ],
      "source": [
        "from google.colab import files\n",
        "uploaded = files.upload()\n"
      ]
    },
    {
      "cell_type": "code",
      "execution_count": null,
      "metadata": {
        "id": "-uJVT8Uy4u2f"
      },
      "outputs": [],
      "source": [
        "[['carbon_emissions',]]"
      ]
    },
    {
      "cell_type": "code",
      "execution_count": null,
      "metadata": {
        "id": "-n5KxPEv4yth"
      },
      "outputs": [],
      "source": []
    },
    {
      "cell_type": "code",
      "execution_count": null,
      "metadata": {
        "id": "vYfF5JSMYUlw"
      },
      "outputs": [],
      "source": [
        "from matplotlib import pyplot as plt  # Correct alias\n",
        "\n",
        "x = [5, 2, 7]\n",
        "y = [2, 16, 4]\n",
        "\n",
        "plt.plot(x, y)\n",
        "plt.title('Info')\n",
        "plt.ylabel('Y axis')\n",
        "plt.xlabel('X axis')\n",
        "plt.show()\n"
      ]
    },
    {
      "cell_type": "code",
      "execution_count": null,
      "metadata": {
        "id": "6ycWEBmaasZF"
      },
      "outputs": [],
      "source": [
        "import matplotlib.pyplot as plt\n",
        "months=['Jan','Feb','Mar','Apr','May','Jun']\n",
        "energy_consumption=[1200,1300, 1100,1500,1400,1600]\n",
        "plt.plot(months,energy_consumption,marker='o',color='b',linestyle='--')\n",
        "plt.title('Energy Consumption Over 6 Months')\n",
        "plt.xlabel('Month')\n",
        "plt.ylabel('Energy Consumption(MWh)')\n",
        "plt.show()\n"
      ]
    },
    {
      "cell_type": "code",
      "execution_count": null,
      "metadata": {
        "id": "jfVwWpsDcPse"
      },
      "outputs": [],
      "source": [
        "energy_sources=['Solar','Wind','Hydropower','Biomass']\n",
        "energy_values=[1200,3400,2900,2500]\n",
        "plt.bar(energy_sources,energy_values,color='pink')\n",
        "plt.title('Energy Consumption by Renewable Energy Source')\n",
        "plt.xlabel('Energy Source')\n",
        "plt.ylabel('Energy Consumption(MWh)')\n",
        "plt.show()"
      ]
    },
    {
      "cell_type": "code",
      "execution_count": null,
      "metadata": {
        "id": "zJXdaqRMcFdV"
      },
      "outputs": [],
      "source": [
        "import pandas as pd\n",
        "import numpy as np\n",
        "import matplotlib.pyplot as plt\n",
        "from sklearn.model_selection import train_test_split\n",
        "from sklearn.linear_model import LinearRegression\n",
        "from sklearn.metrics import mean_squared_error, r2_score\n",
        "\n",
        "# Example: Create a simple dataset\n",
        "# Let's simulate some data: X = hours studied, y = exam score\n",
        "data = {\n",
        "    'Hours_Studied': [1, 2, 3, 4, 5, 6, 7, 8, 9, 10],\n",
        "    'Exam_Score': [35, 40, 50, 55, 60, 65, 70, 75, 85, 90]\n",
        "}\n",
        "\n",
        "df = pd.DataFrame(data)\n",
        "\n",
        "# Split into features (X) and target (y)\n",
        "X = df[['Hours_Studied']]  # Feature should be 2D\n",
        "y = df['Exam_Score']       # Target\n",
        "\n",
        "# Split into train and test sets\n",
        "X_train, X_test, y_train, y_test = train_test_split(X, y, test_size=0.2, random_state=42)\n",
        "\n",
        "# Create Linear Regression model\n",
        "model = LinearRegression()\n",
        "model.fit(X_train, y_train)\n",
        "\n",
        "# Predict using the model\n",
        "y_pred = model.predict(X_test)\n",
        "\n",
        "# Evaluation\n",
        "mse = mean_squared_error(y_test, y_pred)\n",
        "r2 = r2_score(y_test, y_pred)\n",
        "\n",
        "print(\"Mean Squared Error:\", mse)\n",
        "print(\"R^2 Score:\", r2)\n",
        "\n",
        "# Plot the results\n",
        "plt.scatter(X_test, y_test, color='blue', label='Actual')\n",
        "plt.plot(X_test, y_pred, color='red', linewidth=2, label='Predicted Line')\n",
        "plt.title('Linear Regression: Hours Studied vs Exam Score')\n",
        "plt.xlabel('Hours Studied')\n",
        "plt.ylabel('Exam Score')\n",
        "plt.legend()\n",
        "plt.grid(True)\n",
        "plt.show()\n"
      ]
    },
    {
      "cell_type": "code",
      "execution_count": null,
      "metadata": {
        "id": "h8aWT9b2cx_0"
      },
      "outputs": [],
      "source": [
        "from google.colab import files\n",
        "uploaded = files.upload()\n",
        "\n"
      ]
    },
    {
      "cell_type": "code",
      "execution_count": null,
      "metadata": {
        "id": "GCT1W0XWjRVp"
      },
      "outputs": [],
      "source": [
        "import pandas as pd\n",
        "\n",
        "df = pd.read_csv('appliance_energy.csv')\n",
        "print(df.head())\n"
      ]
    },
    {
      "cell_type": "code",
      "execution_count": null,
      "metadata": {
        "id": "hzw5dVVFjjW1"
      },
      "outputs": [],
      "source": [
        "from google.colab import files\n",
        "uploaded = files.upload()"
      ]
    },
    {
      "cell_type": "code",
      "execution_count": null,
      "metadata": {
        "id": "q0_uZhs4j2zy"
      },
      "outputs": [],
      "source": [
        "import pandas as pd\n",
        "\n",
        "df = pd.read_csv('appliance_energy.csv')\n",
        "print(df.head())\n"
      ]
    },
    {
      "cell_type": "code",
      "execution_count": null,
      "metadata": {
        "id": "dlTKJIEXj9YK"
      },
      "outputs": [],
      "source": [
        "plt.scatter(X_test,y_test,color='blue',label='Test Data')\n",
        "plt.plot(X_test,y_pred,color='red',label='Regression Line')\n",
        "plt.xlabel('Temperature (°C)')\n",
        "plt.ylabel('Energy Consumption (MWh)')\n",
        "plt.title('Haritha')\n",
        "plt.legend()\n",
        "plt.grid(True)\n",
        "plt.show()"
      ]
    },
    {
      "cell_type": "markdown",
      "metadata": {
        "id": "q94uXa9XlUSx"
      },
      "source": []
    },
    {
      "cell_type": "code",
      "execution_count": null,
      "metadata": {
        "id": "sqPQExfaeB-5"
      },
      "outputs": [],
      "source": [
        "plt.pie(energy_values,labels=energy_sources,autopct='%1.1f%%',colors=['yellow','lightblue','lightred','coral'])\n",
        "plt.title('Energy Consumption Share by Source')\n",
        "plt.show()"
      ]
    },
    {
      "cell_type": "code",
      "execution_count": null,
      "metadata": {
        "id": "Y2sgUVjIfW3f"
      },
      "outputs": [],
      "source": [
        "carbon_emissions=[200,500,450,300]\n",
        "plt.scatter(energy_values,carbon_emissions,color='red')\n",
        "plt.title('Energy Consumption vs Carbon emissions')\n",
        "plt.xlabel('Energy Consumption(MWh)')\n",
        "plt.ylabel('Carbon Emissions(kg CO2)')\n",
        "plt.show()"
      ]
    },
    {
      "cell_type": "code",
      "execution_count": null,
      "metadata": {
        "id": "nKGuISDh2VEK"
      },
      "outputs": [],
      "source": [
        "import numpy as np\n",
        "energy_consumption =np.array([1200,3400,2900,1800,2500])\n",
        "print(\"Energy Consumption (in MWH)fot Different Renewable Sources:\")\n",
        "print(energy_consumption)"
      ]
    },
    {
      "cell_type": "code",
      "execution_count": null,
      "metadata": {
        "id": "3op-dbKHgy0C"
      },
      "outputs": [],
      "source": [
        "plt.bar(energy_sources,energy_values,color='orange',edgecolor='black',linewidth=2)\n",
        "plt.title('Customised Energy Consumption by Source',fontsize=14,fontweight='bold')\n",
        "plt.xlabel('Energy Source', fontsize=12)\n",
        "plt.ylabel('Energy Consumption (MWh)', fontsize=12)\n",
        "plt.grid(True, linestyle='--',alph=0.7)\n",
        "plt.legend(['Energy Consumption (MWh)'],loc='upper left')\n",
        "plt.show()"
      ]
    },
    {
      "cell_type": "code",
      "execution_count": null,
      "metadata": {
        "id": "7h_ALQV7jPkb"
      },
      "outputs": [],
      "source": [
        "# Define the EnergySystem class\n",
        "class EnergySystem:\n",
        "def_init_(self, building_name, energy_consumption, emission_factor):\n",
        "# Initialize attributes\n",
        "self.building_name = building_name\n",
        "self.energy_consumption = energy_consumption # in kWh\n",
        "self.emission_factor = emission_factor # kg CO2 per kWh\n",
        "\n",
        "# Example usage:\n",
        "building = EnergySystem(\"Building A\", 5000, 0.45)\n",
        "print(f\"{building.building_name}: {building.energy_consumption} kWh, {building.emission_factor} kg CO2/kWh\")"
      ]
    },
    {
      "cell_type": "code",
      "execution_count": null,
      "metadata": {
        "id": "_C99OVFYleRL"
      },
      "outputs": [],
      "source": [
        "# Define the EnergySystem class\n",
        "class EnergySystem:\n",
        "   def __init__(self, building_name, energy_consumption, emission_factor):\n",
        "               # Initialize attributes\n",
        "               self.building_name = building_name\n",
        "               self.energy_consumption = energy_consumption # in kWh\n",
        "               self.emission_factor = emission_factor # kg CO2 per kWh\n",
        "\n",
        "# Example usage:\n",
        "building = EnergySystem(\"Building A\", 5000, 0.45)\n",
        "print(f\"{building.building_name}: {building.energy_consumption} kWh, {building.emission_factor} kg CO2/kWh\")"
      ]
    },
    {
      "cell_type": "code",
      "execution_count": null,
      "metadata": {
        "id": "BRI4eCPYl6Fh"
      },
      "outputs": [],
      "source": [
        "# Define the EnergySystem class\n",
        "class EnergySystem:\n",
        "    def __init__(self, building_name, energy_consumption, emission_factor):\n",
        "        # Initialize attributes\n",
        "        self.building_name = building_name\n",
        "        self.energy_consumption = energy_consumption  # in kWh\n",
        "        self.emission_factor = emission_factor        # kg CO2 per kWh\n",
        "\n",
        "    def calculate_carbon_footprint(self):\n",
        "        return self.energy_consumption * self.emission_factor\n",
        "\n",
        "    def calculate_energy_savings(self):\n",
        "        return self.energy_consumption * 0.10\n",
        "\n",
        "# Create an instance of the class\n",
        "building = EnergySystem(\"Building A\", 5000, 0.45)\n",
        "\n",
        "# Call methods and store results\n",
        "carbon_footprint = building.calculate_carbon_footprint()\n",
        "energy_savings = building.calculate_energy_savings()\n",
        "\n",
        "# Print the results\n",
        "print(f\"Carbon Footprint: {carbon_footprint} kg CO2\")\n",
        "print(f\"Energy Savings: {energy_savings} kWh\")\n"
      ]
    },
    {
      "cell_type": "code",
      "execution_count": null,
      "metadata": {
        "id": "JQOqa5l0pDOv"
      },
      "outputs": [],
      "source": [
        "class EnergySystem:\n",
        "    def __init__(self, building_name, energy_consumption, emission_factor):\n",
        "        self.building_name = building_name\n",
        "        self.energy_consumption = energy_consumption  # in kWh\n",
        "        self.emission_factor = emission_factor        # kg CO2 per kWh\n",
        "\n",
        "    # Method to calculate carbon footprint\n",
        "    def calculate_carbon_footprint(self):\n",
        "        return self.energy_consumption * self.emission_factor\n",
        "\n",
        "    # Method to calculate energy savings (Assume saving 10% for now)\n",
        "    def calculate_energy_savings(self):\n",
        "        return self.energy_consumption * 0.10  # 10% savings\n",
        "\n",
        "# Example usage:\n",
        "building = EnergySystem(\"Building A\", 5000, 0.45)\n",
        "carbon_footprint = building.calculate_carbon_footprint()\n",
        "energy_savings = building.calculate_energy_savings()\n",
        "\n",
        "print(f\"Carbon Footprint: {carbon_footprint} kg CO2\")\n",
        "print(f\"Energy Savings: {energy_savings} kWh\")\n",
        "\n",
        "\n"
      ]
    },
    {
      "cell_type": "code",
      "execution_count": null,
      "metadata": {
        "id": "G_9bOAMvrVcT"
      },
      "outputs": [],
      "source": [
        "# Parent class\n",
        "class EnergySystem:\n",
        "    def __init__(self, building_name, energy_consumption, emission_factor):\n",
        "        self.building_name = building_name\n",
        "        self.energy_consumption = energy_consumption  # in kWh\n",
        "        self.emission_factor = emission_factor        # kg CO2 per kWh\n",
        "\n",
        "    def calculate_carbon_footprint(self):\n",
        "        return self.energy_consumption * self.emission_factor\n",
        "\n",
        "    def calculate_energy_savings(self):\n",
        "        return self.energy_consumption * 0.10\n",
        "\n",
        "\n",
        "# Subclass SolarEnergySystem inheriting from EnergySystem\n",
        "class SolarEnergySystem(EnergySystem):\n",
        "    def __init__(self, building_name, energy_consumption, emission_factor, solar_production):\n",
        "        # Inherit attributes from the parent class\n",
        "        super().__init__(building_name, energy_consumption, emission_factor)\n",
        "        self.solar_production = solar_production  # energy produced by solar panels in kWh\n",
        "\n",
        "    # Method to calculate net energy consumption (energy used - solar energy produced)\n",
        "    def net_energy_consumption(self):\n",
        "        return self.energy_consumption - self.solar_production\n",
        "\n",
        "\n",
        "# Example usage:\n",
        "solar_building = SolarEnergySystem(\"Solar Building\", 5000, 0.45, 1500)\n",
        "net_consumption = solar_building.net_energy_consumption()\n",
        "\n",
        "print(f\"Net Energy Consumption: {net_consumption} kWh\")\n"
      ]
    },
    {
      "cell_type": "code",
      "execution_count": null,
      "metadata": {
        "id": "60oQ__l7sEvW"
      },
      "outputs": [],
      "source": [
        "# Parent class\n",
        "class EnergySystem:\n",
        "    def __init__(self, building_name, energy_consumption, emission_factor):\n",
        "        self.building_name = building_name\n",
        "        self.energy_consumption = energy_consumption  # in kWh\n",
        "        self.emission_factor = emission_factor        # kg CO2 per kWh\n",
        "\n",
        "    def calculate_carbon_footprint(self):\n",
        "        return self.energy_consumption * self.emission_factor\n",
        "\n",
        "    def calculate_energy_savings(self):\n",
        "        return self.energy_consumption * 0.10\n",
        "\n",
        "\n",
        "# Subclass overriding the carbon footprint method\n",
        "class SolarEnergySystem(EnergySystem):\n",
        "    def __init__(self, building_name, energy_consumption, emission_factor, solar_production):\n",
        "        super().__init__(building_name, energy_consumption, emission_factor)\n",
        "        self.solar_production = solar_production  # in kWh\n",
        "\n",
        "    # Overriding method to calculate adjusted carbon footprint\n",
        "    def calculate_carbon_footprint(self):\n",
        "        net_consumption = self.energy_consumption - self.solar_production\n",
        "        return net_consumption * self.emission_factor\n",
        "\n",
        "\n",
        "# Example usage:\n",
        "solar_building = SolarEnergySystem(\"Solar Building\", 5000, 0.45, 1500)\n",
        "carbon_footprint = solar_building.calculate_carbon_footprint()\n",
        "\n",
        "print(f\"Adjusted Carbon Footprint (after solar production): {carbon_footprint:.2f} kg CO2\")\n"
      ]
    },
    {
      "cell_type": "code",
      "execution_count": null,
      "metadata": {
        "id": "lPdj1jQUb2ed"
      },
      "outputs": [],
      "source": [
        "_climate_data =    {\"city\":\"City A\",\"temperature\":25, \"carbon_footprint\":500},\n",
        "    {\"city\":\"City B\",\"temperature\":30, \"carbon_footprint\":350},\n",
        "    {\"city\":\"City C\",\"temperature\":22, \"carbon_footprint\":600},\n",
        "    {\"city\":\"City D\",\"temperature\":15, \"carbon_footprint\":200},\n",
        "    {\"city\":\"City E\",\"temperature\":28, \"carbon_footprint\":450},\n",
        "]\n",
        "high_temp_treshold = 26\n",
        "high_temp_cities =[city for city in climate_data if city[\"temperature\"] > high_temp_treshold]\n",
        "print(\"Cities with high temperature (> 26 C):\")\n",
        "for city in high_temp_cities:\n",
        "  print(f\"{city['city']} - {city['temperature']}C\")"
      ]
    },
    {
      "cell_type": "code",
      "execution_count": null,
      "metadata": {
        "id": "hcItOXFRgfRw"
      },
      "outputs": [],
      "source": [
        "climate_pollution_data = [\n",
        "    {\"city\": \"City F\", \"rainfall\": 120, \"aqi\": 95},\n",
        "    {\"city\": \"City G\", \"rainfall\": 80, \"aqi\": 110},\n",
        "    {\"city\": \"City H\", \"rainfall\": 150, \"aqi\": 130},\n",
        "    {\"city\": \"City I\", \"rainfall\": 60, \"aqi\": 85},\n",
        "    {\"city\": \"City J\", \"rainfall\": 100, \"aqi\": 140},\n",
        "]\n",
        "\n",
        "aqi_threshold = 100\n",
        "polluted_cities = [city for city in climate_pollution_data if city[\"aqi\"] > aqi_threshold]\n",
        "\n",
        "print(\"Cities with poor air quality (AQI > 100):\")\n",
        "for city in polluted_cities:\n",
        "    print(f\"{city['city']} - AQI: {city['aqi']}\")\n"
      ]
    },
    {
      "cell_type": "code",
      "execution_count": null,
      "metadata": {
        "id": "4ixp1iVO3QV-"
      },
      "outputs": [],
      "source": [
        "total_consumption = np.sum(ene)rgy_consumption)\n",
        "print(f\"\\nTotal Energy Consumption:{total_consumption} MWh\""
      ]
    },
    {
      "cell_type": "code",
      "execution_count": null,
      "metadata": {
        "id": "5EgSVJlb3xZj"
      },
      "outputs": [],
      "source": [
        "mean_consumption = np.sum(energy_consumption)\n",
        "print(f\"\\nMean Energy Consumption:{mean_consumption:.2f} MWh\")"
      ]
    },
    {
      "cell_type": "code",
      "execution_count": null,
      "metadata": {
        "id": "BOwZYz0m4VB7"
      },
      "outputs": [],
      "source": [
        "std_deviation =np.std(energy_consumption)\n",
        "print(f\"\\nStandard Deviation of Energy Consumption:{std_deviation:.2f}MWh\")"
      ]
    },
    {
      "cell_type": "code",
      "execution_count": null,
      "metadata": {
        "id": "jELNKcW_43NC"
      },
      "outputs": [],
      "source": [
        "reshaped_array =energy_consumption.reshape((5,1))\n",
        "print(\"\\nReshaped Energy Consumption Array(5x1):\")\n",
        "print(reshaped_array)"
      ]
    },
    {
      "cell_type": "code",
      "execution_count": null,
      "metadata": {
        "id": "w49hYZNNJGH1"
      },
      "outputs": [],
      "source": [
        "forward_filled_df = energy_df.fillna(method=\"ffill\")\n",
        "print(\"\\nData After Forward Filling:\")\n",
        "print(forward_filled_df)"
      ]
    },
    {
      "cell_type": "code",
      "execution_count": null,
      "metadata": {
        "id": "KtTJ_GLggmVR"
      },
      "outputs": [],
      "source": [
        "total_carbon = 0\n",
        "for city in climate_data:\n",
        "  total_carbon += city[\"carbon_footprint\"]\n",
        "\n",
        "average_carbon_footprint = total_carbon / len(climate_data)\n",
        "print(f\"/nAverage Carbon Footprint: {average_carbon_footprint:.2f} kg CO2\")"
      ]
    },
    {
      "cell_type": "code",
      "execution_count": null,
      "metadata": {
        "id": "kEfUSmFVSncp"
      },
      "outputs": [],
      "source": [
        "import random\n",
        "\n",
        "quotes = [\n",
        "    \"Believe in yourself and all that you are.\",\n",
        "    \"You are stronger than you think.\",\n",
        "    \"Every day is a second chance.\",\n",
        "    \"Push yourself, because no one else is going to do it for you.\",\n",
        "    \"Success doesn’t just find you. You have to go out and get it.\",\n",
        "    \"Great things never come from comfort zones.\",\n",
        "    \"Dream it. Wish it. Do it.\"\n",
        "]\n",
        "\n",
        "random_quote = random.choice(quotes)\n",
        "print(\"✨ Your random motivational quote:\")\n",
        "print(f\"➡️  {random_quote}\")\n"
      ]
    },
    {
      "cell_type": "code",
      "execution_count": null,
      "metadata": {
        "id": "Wdm3U4xRY5Wg"
      },
      "outputs": [],
      "source": [
        "highest_footprint_city = max(climate_data, key=lambda\n",
        "                             city: city[\"carbon_footprint\"])\n",
        "print(f\"\\nCity with the highest carbon footprint:\")\n",
        "print(f\"{highest_footprint_city_['city']} - {highest_footprint_city['carbon_footprint']} kg CO2\")"
      ]
    },
    {
      "cell_type": "code",
      "execution_count": null,
      "metadata": {
        "id": "PLRebTgjf3BD"
      },
      "outputs": [],
      "source": [
        "import pandas as pd\n",
        "\n",
        "# Sample data\n",
        "data = {\n",
        "    \"City\": [\"City A\", \"City B\", \"City C\", \"City D\", \"City E\"],\n",
        "    \"Temperature\": [25, 30, 22, 15, 28],\n",
        "    \"Carbon Footprint\": [500, 350, 600, 200, 450]\n",
        "}\n",
        "\n",
        "# Create DataFrame\n",
        "df = pd.DataFrame(data)\n",
        "\n",
        "# Set threshold\n",
        "threshold = 26\n",
        "\n",
        "# Filter cities with high temperature\n",
        "high_temp_df = df[df[\"Temperature\"] > threshold]\n",
        "\n",
        "# Show result\n",
        "print(\"Cities with high temperature (> 26°C):\")\n",
        "print(high_temp_df)\n"
      ]
    },
    {
      "cell_type": "code",
      "execution_count": null,
      "metadata": {
        "id": "OSnakAe9krxD"
      },
      "outputs": [],
      "source": [
        "pip install pandas"
      ]
    },
    {
      "cell_type": "code",
      "execution_count": null,
      "metadata": {
        "id": "-MPOUKGtk94p"
      },
      "outputs": [],
      "source": [
        "import pandas as pd\n",
        "renewable_sources = [\"Solar\", \"Wind\", \"Hydropower\", \"Geothermal\", \"Biomass\"]\n",
        "data = {\n",
        "    \"Project\":[\"Solar Farm A\",\"Wind Turbine X\",\"Hydropower Y\",\"Solar Roof Z\",\"Geothermal Plant P\"],\n",
        "    \"Technology\":[\"Solar\",\"Wind\",\"Hydropower\",\"Solar\",\"Geothermal\"],\n",
        "    \"Capacity (MW)\":[150,300,200,50,100],\n",
        "    \"Cost (Million $)\":[200,400,350,100,250],\n",
        "    \"Location\":[\"California\",\"Texas\",\"Washington\",\"Nevada\",\"Idaho\"],\n",
        "    \"Completion Year\":[2023,2024,2022,2025,2023]\n",
        "}"
      ]
    },
    {
      "cell_type": "code",
      "execution_count": null,
      "metadata": {
        "id": "kgEzyTympCF8"
      },
      "outputs": [],
      "source": [
        "renewable_sources = pd.Series(renewable_sources)\n",
        "print(\"Renewable Energy Sources:\")\n",
        "print(renewable_sources)"
      ]
    },
    {
      "cell_type": "code",
      "execution_count": null,
      "metadata": {
        "id": "Hp0muxaspn2o"
      },
      "outputs": [],
      "source": [
        "projects_df = pd.DataFrame(data)\n",
        "print(\"\\nGreen Technology Projects DataFrame:\")\n",
        "print(projects_df)"
      ]
    },
    {
      "cell_type": "code",
      "execution_count": null,
      "metadata": {
        "id": "tvO-2TXWsVxP"
      },
      "outputs": [],
      "source": [
        "print(\"\\nList of Project:\")\n",
        "print(projects_df[\"Project\"])"
      ]
    },
    {
      "cell_type": "code",
      "execution_count": null,
      "metadata": {
        "id": "Bv-DUWDTtV6P"
      },
      "outputs": [],
      "source": [
        "high_capacity_projects = projects_df[projects_df[\"Capacity (MW)\"] > 100]\n",
        "print(\"\\nProjects with Capacity Greater than 100 MW:\")\n",
        "print(high_capacity_projects)"
      ]
    },
    {
      "cell_type": "code",
      "execution_count": null,
      "metadata": {
        "id": "UwaeRJLUvRaX"
      },
      "outputs": [],
      "source": [
        "projects_df[Cost per MW\"] = projects_df[\"Capacity (MW)\"]/\n",
        "projects_df[\"Capacity (MW)\"]\n",
        "print(\"\\nDataFrame with Cost per MW:\")\n",
        "print(projects_df)"
      ]
    },
    {
      "cell_type": "markdown",
      "metadata": {
        "id": "MjvTu1yRp8QA"
      },
      "source": []
    },
    {
      "cell_type": "code",
      "execution_count": null,
      "metadata": {
        "id": "OZbflhY1wSZ-"
      },
      "outputs": [],
      "source": [
        "total_capacity = projects_df[\"Capacity (MW)\"] .sum()\n",
        "total_cost = projects_df[\"Cost (Million $)\"].sum()\n",
        "print(f\"\\nTotal Capacity of all projects: {total_capacity} MW\")\n",
        "print(f\"Total Cost of all projects: ${total_cost}million\")"
      ]
    },
    {
      "cell_type": "code",
      "execution_count": null,
      "metadata": {
        "id": "SMWLa-jgyAL9"
      },
      "outputs": [],
      "source": [
        "grouped_data =projects_df.groupby(\"Technology\")[\"Capacity (MW)\"].sum()\n",
        "print(\"\\nTotal Capacity by technology:\")\n",
        "print(grouped_data)"
      ]
    },
    {
      "cell_type": "code",
      "execution_count": null,
      "metadata": {
        "id": "sNTACnGlJH4m"
      },
      "outputs": [],
      "source": [
        "# create a float variable for carbon footprint\n",
        "carbon_footprint=500.75 # kg CO2\n",
        "# print the value of the float variable\n",
        "print(f\"Carbon Footprint: {carbon_footprint} kg CO2\")"
      ]
    },
    {
      "cell_type": "code",
      "execution_count": null,
      "metadata": {
        "id": "frREcJOjJ_2U"
      },
      "outputs": [],
      "source": [
        "type(carbon_footprint)"
      ]
    },
    {
      "cell_type": "code",
      "execution_count": null,
      "metadata": {
        "id": "WeKKwf4AK2Ea"
      },
      "outputs": [],
      "source": [
        "is_sustainable = carbon_footprint <400\n",
        "print(f\"Is the city sustainable?{is_sustainable}\")"
      ]
    },
    {
      "cell_type": "code",
      "execution_count": null,
      "metadata": {
        "id": "CimcGt5QLRHM"
      },
      "outputs": [],
      "source": [
        "x,y,z=1,2,3\n",
        "x"
      ]
    },
    {
      "cell_type": "code",
      "execution_count": null,
      "metadata": {
        "id": "EQxoahnKLYMp"
      },
      "outputs": [],
      "source": [
        "z"
      ]
    },
    {
      "cell_type": "code",
      "execution_count": null,
      "metadata": {
        "id": "qbmGJEEVLbuS"
      },
      "outputs": [],
      "source": [
        "y"
      ]
    },
    {
      "cell_type": "code",
      "execution_count": null,
      "metadata": {
        "id": "qW_pzpmOLe5a"
      },
      "outputs": [],
      "source": [
        "weekly_temperatures = [25,27,28,26,24,30,29]\n",
        "print(f\"Weekly temperatures:{weekly_temperatures}\")"
      ]
    },
    {
      "cell_type": "code",
      "execution_count": null,
      "metadata": {
        "id": "IzfctTLWMWNr"
      },
      "outputs": [],
      "source": [
        "weekly_temperatures[1]"
      ]
    },
    {
      "cell_type": "code",
      "execution_count": null,
      "metadata": {
        "id": "i4Yfm9oGMeK6"
      },
      "outputs": [],
      "source": [
        "weekly_temperatures[5]"
      ]
    },
    {
      "cell_type": "code",
      "execution_count": null,
      "metadata": {
        "id": "YAG0_fusNC_p"
      },
      "outputs": [],
      "source": [
        "city_data ={\n",
        "    \"city_name\":\"City A\",\n",
        "    \"temperature\":25,\n",
        "    \"carbon_footprint\":500.75,\n",
        "    \"is_sustainable\":False\n",
        "}\n",
        "print(f\"City Data: {city_data}\")"
      ]
    },
    {
      "cell_type": "code",
      "execution_count": null,
      "metadata": {
        "id": "T13Ek9uMOpVi"
      },
      "outputs": [],
      "source": [
        "city_name, temperature, carbon_footprint = \"City B\",30,200\n",
        "print(f{city_name},Temperature:{temperature}45,\n",
        "      Carbon Footprint :{})"
      ]
    },
    {
      "cell_type": "code",
      "metadata": {
        "id": "2bffe8b1"
      },
      "source": [
        "model = Sequential([\n",
        "    Dense(64, activation='relu', input_shape=(X_train.shape[1],)),\n",
        "    Dense(32, activation='relu'),\n",
        "    Dense(1)\n",
        "])"
      ],
      "execution_count": null,
      "outputs": []
    }
  ],
  "metadata": {
    "colab": {
      "provenance": []
    },
    "kernelspec": {
      "display_name": "Python 3",
      "name": "python3"
    },
    "language_info": {
      "name": "python"
    }
  },
  "nbformat": 4,
  "nbformat_minor": 0
}